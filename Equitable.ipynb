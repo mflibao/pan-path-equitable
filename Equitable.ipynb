{
 "cells": [
  {
   "cell_type": "code",
   "execution_count": 1,
   "id": "07f22dfa-6403-45b2-b2be-242b682ae973",
   "metadata": {},
   "outputs": [
    {
     "data": {
      "application/vnd.jupyter.widget-view+json": {
       "model_id": "fd9a2f67c34848558db83500c7902253",
       "version_major": 2,
       "version_minor": 0
      },
      "text/plain": [
       "IntSlider(value=0)"
      ]
     },
     "execution_count": 1,
     "metadata": {},
     "output_type": "execute_result"
    }
   ],
   "source": [
    "import ipywidgets as widgets\n",
    "widgets.IntSlider()\n"
   ]
  },
  {
   "cell_type": "code",
   "execution_count": 2,
   "id": "1209ec5f-c276-47a9-96d6-56edfb7d57e2",
   "metadata": {},
   "outputs": [
    {
     "data": {
      "application/vnd.jupyter.widget-view+json": {
       "model_id": "bff9138426a1435ba3ca876e83815676",
       "version_major": 2,
       "version_minor": 0
      },
      "text/plain": [
       "VBox(children=(IntSlider(value=5, description='n:', max=15, min=3), IntSlider(value=4, description='m:', max=1…"
      ]
     },
     "metadata": {},
     "output_type": "display_data"
    }
   ],
   "source": [
    "import networkx as nx\n",
    "import matplotlib.pyplot as plt\n",
    "import ipywidgets as widgets\n",
    "from matplotlib.animation import FuncAnimation \n",
    "from IPython.display import HTML, display\n",
    "\n",
    "# ── Interactive controls ──\n",
    "n_slider   = widgets.IntSlider(value=5, min=3, max=15, step=1, description='n:')\n",
    "m_slider   = widgets.IntSlider(value=4, min=2, max=12, step=1, description='m:')\n",
    "run_button = widgets.Button(description='Run Animation')\n",
    "output     = widgets.Output()\n",
    "\n",
    "# ── Graph constructors ──\n",
    "def build_n_pan(n):\n",
    "    G = nx.cycle_graph(range(1, n+1))\n",
    "    G.add_node(0); G.add_edge(0, 1)\n",
    "    return G\n",
    "\n",
    "def compute_base_coloring(n):\n",
    "    base = {}\n",
    "    if n % 2 == 0:\n",
    "        for i in range(1, n+1):\n",
    "            base[i] = 1 if i % 2 else 2\n",
    "        base[0] = 2\n",
    "    else:\n",
    "        r = n % 3\n",
    "        if r == 0:\n",
    "            for i in range(1, n+1):\n",
    "                base[i] = ((i-1) % 3) + 1\n",
    "            base[0] = 3\n",
    "        elif r == 1:\n",
    "            for i in range(1, n):\n",
    "                base[i] = ((i-1) % 3) + 1\n",
    "            base[n] = 2; base[0] = 3\n",
    "        else:\n",
    "            for i in range(1, n-1):\n",
    "                base[i] = ((i-1) % 3) + 1\n",
    "            base[n-1] = 1; base[n] = 2; base[0] = 3\n",
    "    return base\n",
    "\n",
    "# ── Animation builder ──\n",
    "def equitable_anim(n, m):\n",
    "    G = build_n_pan(n)\n",
    "    base = compute_base_coloring(n)\n",
    "    H = nx.path_graph(range(1, m+1))\n",
    "    GH = nx.cartesian_product(G, H)\n",
    "    k = max(base.values())\n",
    "    coloring = {(u,v): ((base[u] + v-1) % k or k) for u,v in GH.nodes()}\n",
    "    \n",
    "    pos    = nx.spring_layout(GH, seed=42)\n",
    "    groups = {r: [node for node,c in coloring.items() if c==r] \n",
    "              for r in set(coloring.values())}\n",
    "    cmap   = {0:'lightgray', 1:'red', 2:'green', 3:'blue'}\n",
    "    \n",
    "    fig, ax = plt.subplots(figsize=(6,5))\n",
    "    plt.close()\n",
    "    titles = [\"Step 0: All Gray\",\n",
    "              \"Step 1: Reveal Class 1\",\n",
    "              \"Step 2: Reveal Class 2\",\n",
    "              \"Step 3: Full Coloring\"]\n",
    "    \n",
    "    def update(frame):\n",
    "        ax.clear()\n",
    "        vis = set()\n",
    "        if frame>=1: vis |= set(groups.get(1,[]))\n",
    "        if frame>=2: vis |= set(groups.get(2,[]))\n",
    "        if frame>=3: vis |= set(groups.get(3,[]))\n",
    "        colors = [cmap[coloring[n]] if n in vis else cmap[0] for n in GH.nodes()]\n",
    "        nx.draw(GH, pos, node_color=colors, with_labels=True, ax=ax)\n",
    "        ax.set_title(f\"n={n}, m={m} — {titles[frame]}\")\n",
    "    \n",
    "    return FuncAnimation(fig, update, frames=4, interval=800, repeat=False)\n",
    "\n",
    "# ── Hook up the button ──\n",
    "def on_run(b):\n",
    "    with output:\n",
    "        output.clear_output(wait=True)\n",
    "        ani = equitable_anim(n_slider.value, m_slider.value)\n",
    "        display(HTML(ani.to_jshtml()))\n",
    "\n",
    "run_button.on_click(on_run)\n",
    "\n",
    "# ── Display UI ──\n",
    "display(widgets.VBox([n_slider, m_slider, run_button, output]))\n"
   ]
  }
 ],
 "metadata": {
  "kernelspec": {
   "display_name": "Python 3 (ipykernel)",
   "language": "python",
   "name": "python3"
  },
  "language_info": {
   "codemirror_mode": {
    "name": "ipython",
    "version": 3
   },
   "file_extension": ".py",
   "mimetype": "text/x-python",
   "name": "python",
   "nbconvert_exporter": "python",
   "pygments_lexer": "ipython3",
   "version": "3.12.10"
  }
 },
 "nbformat": 4,
 "nbformat_minor": 5
}
