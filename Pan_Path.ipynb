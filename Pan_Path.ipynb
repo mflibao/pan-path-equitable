{
 "cells": [
  {
   "cell_type": "code",
   "execution_count": 7,
   "id": "7c90cef0-e9b1-4742-884d-993fb3709ee7",
   "metadata": {},
   "outputs": [],
   "source": [
    "# =============================================================\n",
    "# 0.  SET-UP  (run exactly once after every kernel restart)\n",
    "# =============================================================\n",
    "%matplotlib widget         \n",
    "import matplotlib, matplotlib.pyplot as plt\n",
    "matplotlib.rcParams['animation.html']        = 'jshtml'\n",
    "matplotlib.rcParams['animation.embed_limit'] = 100   # MB for big graphs\n",
    "\n",
    "import networkx as nx, time, threading, ipywidgets as widgets\n",
    "from matplotlib.animation import FuncAnimation, FFMpegWriter, PillowWriter\n",
    "from IPython.display   import HTML, display, clear_output\n"
   ]
  },
  {
   "cell_type": "code",
   "execution_count": 8,
   "id": "792f74ce-6327-4e58-a0f4-1d2e510ccbdd",
   "metadata": {},
   "outputs": [],
   "source": [
    "# =============================================================\n",
    "# 1.  GRAPH – HELPERS\n",
    "# =============================================================\n",
    "\n",
    "def build_n_pan(n: int) -> nx.Graph:\n",
    "    \"\"\"Return the n-pan graph (cycle C_n with one pendant).\"\"\"\n",
    "    G = nx.cycle_graph(range(1, n + 1))\n",
    "    G.add_node(0)\n",
    "    G.add_edge(0, 1)\n",
    "    return G\n",
    "\n",
    "def compute_base_coloring(n: int) -> dict[int, int]:\n",
    "    \"\"\"χ₌(C⁺¹_n) = 2 (n even) or 3 (n odd); return one such coloring.\"\"\"\n",
    "    base = {}\n",
    "    if n % 2 == 0:                           # even n  →  2 colours\n",
    "        for i in range(1, n + 1):\n",
    "            base[i] = 1 if i % 2 else 2\n",
    "        base[0] = 2\n",
    "    else:                                    # odd n  →  3 colours\n",
    "        r = n % 3\n",
    "        if r == 0:                                # n ≡ 0 (mod 3)\n",
    "            for i in range(1, n + 1):\n",
    "                base[i] = ((i - 1) % 3) + 1\n",
    "            base[0] = 3\n",
    "        elif r == 1:                              # n ≡ 1 (mod 3)\n",
    "            for i in range(1, n):\n",
    "                base[i] = ((i - 1) % 3) + 1\n",
    "            base[n] = 2\n",
    "            base[0]  = 3\n",
    "        else:                                     # n ≡ 2 (mod 3)\n",
    "            for i in range(1, n - 1):\n",
    "                base[i] = ((i - 1) % 3) + 1\n",
    "            base[n - 1] = 1\n",
    "            base[n]     = 2\n",
    "            base[0]     = 3\n",
    "    return base\n",
    "\n",
    "def equitable_anim(n: int, m: int) -> FuncAnimation:\n",
    "    \"\"\"Return 4-frame animation revealing colour classes one by one.\"\"\"\n",
    "    G_room  = build_n_pan(n)\n",
    "    base    = compute_base_coloring(n)\n",
    "    H_corr  = nx.path_graph(range(1, m + 1))\n",
    "    GH      = nx.cartesian_product(G_room, H_corr)\n",
    "\n",
    "    k = max(base.values())                   # 2 or 3\n",
    "    colouring = {(u, v): ((base[u] + v - 1) % k or k) for u, v in GH.nodes()}\n",
    "    groups    = {g: [node for node, c in colouring.items() if c == g]\n",
    "                 for g in range(1, k + 1)}\n",
    "\n",
    "    # fixed layout for repeatability (seed)\n",
    "    pos = nx.spring_layout(GH, seed=42)\n",
    "    cmap = {0: 'lightgray', 1: 'tab:red', 2: 'tab:green', 3: 'tab:blue'}\n",
    "    titles = [\"Step 0 : all lamps grey\",\n",
    "              \"Step 1 : class 1\", \"Step 2 : class 2\", \"Step 3 : class 3\"]\n",
    "\n",
    "    fig, ax = plt.subplots(figsize=(6, 5))\n",
    "    plt.close(fig)                           # prevent duplicate blank plot\n",
    "\n",
    "    def draw(frame: int):\n",
    "        ax.clear()\n",
    "        vis = set().union(*(groups[g] for g in range(1, frame + 1)))\n",
    "        colours = [cmap[colouring[v]] if v in vis else cmap[0] for v in GH.nodes]\n",
    "        nx.draw(GH, pos, node_color=colours, with_labels=True, ax=ax)\n",
    "        ax.set_title(f\"n = {n}, m = {m}   —   {titles[frame]}\", fontsize=12)\n",
    "\n",
    "    return FuncAnimation(fig, draw, frames=4, interval=800, repeat=False)\n"
   ]
  },
  {
   "cell_type": "code",
   "execution_count": 9,
   "id": "ae99750b-b847-486a-931a-01e340d2cac1",
   "metadata": {},
   "outputs": [
    {
     "data": {
      "application/vnd.jupyter.widget-view+json": {
       "model_id": "80abf28bd08146af94136a5f6245e065",
       "version_major": 2,
       "version_minor": 0
      },
      "text/plain": [
       "VBox(children=(IntSlider(value=5, description='n', max=15, min=3), IntSlider(value=4, description='m', max=12,…"
      ]
     },
     "metadata": {},
     "output_type": "display_data"
    }
   ],
   "source": [
    "# =============================================================\n",
    "# 2.  PREVIEW PANEL  (sliders + \"Run Animation\")\n",
    "# =============================================================\n",
    "n_slider  = widgets.IntSlider(value=5, min=3, max=15, step=1, description='n')\n",
    "m_slider  = widgets.IntSlider(value=4, min=2, max=12, step=1, description='m')\n",
    "run_btn   = widgets.Button(description='Run Animation')\n",
    "out_area  = widgets.Output()\n",
    "\n",
    "def _run_preview(_):\n",
    "    with out_area:\n",
    "        clear_output(wait=True)\n",
    "        ani = equitable_anim(int(n_slider.value), int(m_slider.value))\n",
    "        display(HTML(ani.to_jshtml()))\n",
    "\n",
    "run_btn.on_click(_run_preview)\n",
    "display(widgets.VBox([n_slider, m_slider, run_btn, out_area]))\n"
   ]
  },
  {
   "cell_type": "code",
   "execution_count": 14,
   "id": "6e983889-8b1e-4501-bb63-29319760aabb",
   "metadata": {},
   "outputs": [
    {
     "name": "stdout",
     "output_type": "stream",
     "text": [
      "✔ MP4 saved → pan_path_n7_m4.mp4\n"
     ]
    }
   ],
   "source": [
    "save_current_preview()\n"
   ]
  },
  {
   "cell_type": "code",
   "execution_count": 15,
   "id": "99810601-715f-443b-8b80-3920e1b96028",
   "metadata": {},
   "outputs": [
    {
     "data": {
      "application/vnd.jupyter.widget-view+json": {
       "model_id": "5c28665812504e739785cd6562341565",
       "version_major": 2,
       "version_minor": 0
      },
      "text/plain": [
       "HBox(children=(Button(button_style='success', description='Start Dispatcher', style=ButtonStyle()), Button(but…"
      ]
     },
     "metadata": {},
     "output_type": "display_data"
    }
   ],
   "source": [
    "# =============================================================\n",
    "# 3.  GENERATOR DISPATCHER  (start/stop buttons)\n",
    "# =============================================================\n",
    "class Dispatcher:\n",
    "    \"\"\"Rotate generators in a background thread.\"\"\"\n",
    "    def __init__(self, groups: dict[int, list], seconds_per_slot: int = 60):\n",
    "        self.groups  = groups\n",
    "        self.period  = seconds_per_slot\n",
    "        self._thr    = None\n",
    "        self._stop   = threading.Event()\n",
    "\n",
    "    def _loop(self):\n",
    "        order = list(self.groups)            # 1,2,…,k\n",
    "        while not self._stop.is_set():\n",
    "            for g in order:\n",
    "                lamps = self.groups[g]\n",
    "                print(f\"[{time.strftime('%H:%M:%S')}] \"\n",
    "                      f\"Generator {g} ON   ({len(lamps)} lamps)\")\n",
    "                if self._stop.wait(self.period):\n",
    "                    break\n",
    "\n",
    "    def start(self):\n",
    "        if self._thr and self._thr.is_alive():\n",
    "            return                          # already running\n",
    "        self._stop.clear()\n",
    "        self._thr = threading.Thread(target=self._loop, daemon=True)\n",
    "        self._thr.start()\n",
    "        print(\"Dispatcher started.\")\n",
    "\n",
    "    def stop(self):\n",
    "        self._stop.set()\n",
    "        if self._thr: self._thr.join()\n",
    "        print(\"Dispatcher stopped.\")\n",
    "\n",
    "# helper to build full floor + colouring\n",
    "def build_coloured_graph(n: int, m: int):\n",
    "    G  = nx.cartesian_product(build_n_pan(n), nx.path_graph(range(1, m + 1)))\n",
    "    k  = max(compute_base_coloring(n).values())\n",
    "    col = {(u, v): ((compute_base_coloring(n)[u] + v - 1) % k or k)\n",
    "           for u, v in G.nodes}\n",
    "    return G, col, k\n",
    "\n",
    "# small UI\n",
    "start_btn = widgets.Button(description='Start Dispatcher', button_style='success')\n",
    "stop_btn  = widgets.Button(description='Stop Dispatcher',  button_style='danger')\n",
    "\n",
    "def _start(_):\n",
    "    n_val, m_val = int(n_slider.value), int(m_slider.value)\n",
    "    _, cmap, k   = build_coloured_graph(n_val, m_val)\n",
    "    groups = {g: [v for v, c in cmap.items() if c == g] for g in range(1, k + 1)}\n",
    "    for g, lamps in groups.items():\n",
    "        print(f\"Generator {g}: {len(lamps)} lamps\")\n",
    "    global DISP                           # keep alive across callbacks\n",
    "    DISP = Dispatcher(groups, seconds_per_slot=60)\n",
    "    DISP.start()\n",
    "\n",
    "def _stop(_):\n",
    "    if 'DISP' in globals():\n",
    "        DISP.stop()\n",
    "\n",
    "start_btn.on_click(_start)\n",
    "stop_btn.on_click(_stop)\n",
    "display(widgets.HBox([start_btn, stop_btn]))\n"
   ]
  },
  {
   "cell_type": "code",
   "execution_count": 16,
   "id": "cefee260-5838-455d-9f47-ff2f3290f2da",
   "metadata": {},
   "outputs": [],
   "source": [
    "# =============================================================\n",
    "# 4.  OPTIONAL: SAVE THE CURRENT PREVIEW (MP4 if possible, else GIF)\n",
    "# =============================================================\n",
    "from matplotlib.animation import FFMpegWriter, PillowWriter\n",
    "\n",
    "def save_current_preview():\n",
    "    \"\"\"Export the slider-selected preview to MP4 (or GIF if ffmpeg is absent).\"\"\"\n",
    "    n_val, m_val = int(n_slider.value), int(m_slider.value)\n",
    "    ani     = equitable_anim(n_val, m_val)\n",
    "\n",
    "    mp4     = f\"pan_path_n{n_val}_m{m_val}.mp4\"\n",
    "    gif     = f\"pan_path_n{n_val}_m{m_val}.gif\"\n",
    "\n",
    "    # try MP4 first\n",
    "    try:\n",
    "        writer = FFMpegWriter(fps=1, bitrate=1800)\n",
    "        ani.save(mp4, writer=writer, dpi=150)\n",
    "        print(\"✔ MP4 saved →\", mp4)\n",
    "    except Exception as e:\n",
    "        print(\"⚠ MP4 failed, switching to GIF.  Reason:\", e)\n",
    "        ani.save(gif, writer=PillowWriter(fps=1), dpi=150)\n",
    "        print(\"✔ GIF saved →\", gif)\n"
   ]
  },
  {
   "cell_type": "code",
   "execution_count": null,
   "id": "f8392691-1453-4f03-b857-76093a824411",
   "metadata": {},
   "outputs": [],
   "source": []
  }
 ],
 "metadata": {
  "kernelspec": {
   "display_name": "Python 3 (ipykernel)",
   "language": "python",
   "name": "python3"
  },
  "language_info": {
   "codemirror_mode": {
    "name": "ipython",
    "version": 3
   },
   "file_extension": ".py",
   "mimetype": "text/x-python",
   "name": "python",
   "nbconvert_exporter": "python",
   "pygments_lexer": "ipython3",
   "version": "3.12.10"
  }
 },
 "nbformat": 4,
 "nbformat_minor": 5
}
